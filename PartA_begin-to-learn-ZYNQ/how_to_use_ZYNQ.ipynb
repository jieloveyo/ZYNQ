{
 "cells": [
  {
   "cell_type": "markdown",
   "metadata": {},
   "source": [
    "# ZYNQ设计指南\n",
    "***\n"
   ]
  },
  {
   "cell_type": "markdown",
   "metadata": {},
   "source": [
    "## 工具介绍\n",
    "***\n",
    "*   **Vivado IDE** 是用于创建 SoC 设计中**硬件系统部分**的一个集成开发环境，例如可创建处理器，存储器，外设，扩展接口和总线。Vivado IDE 和设计套件中的其他工具有交互，并且包含集成和打包 IP 的工具，这种设计为工程的可重用性提供了可能。\n",
    "\n",
    "\n",
    "*   **SDK** 是基于广受欢迎的 Eclipse 平台开发的软件设计工具，包含 Xilinx IP 的所有驱动，使用 C 和 C++ 语言且支持 ARM 和 NEON 扩展的 GCC 库，以及调试和程序概要分析工具\n",
    "\n",
    "\n",
    "*   **作为验证和调试工具，Vivado Simulator 为系统内硬件组件测试提供了硬件描述语言（HDL）仿真环境。**\n",
    "\n",
    "\n",
    "*   **Vivado Logic Analyser** 提供了系统内验证的工具：例如一些包含在硬件设计中的特殊的核心， 部署在 Zynq 芯片上后可以在运行时探测芯片行为，捕捉到的数据会被传送回主机，然后在逻辑分析器上显示。如其名所示，Vivado Serial I/O Analyser 是一个针对特定高速通信接口的仿真工具。\n",
    "\n",
    "\n",
    "*   **vado High-Level Synthesis (Vivado HLS) 和 System Generator for DSP是专门用于创建、测试和管理硬件系统中的 IP 的工具。**   \n",
    "    * System Generator 是一个基于模块的工具，用于 DSP 设计的创建和仿真。  \n",
    "    * Vivado HLS 是一个从 C 语言描来述综合硬件的设计工具。这是一种开始创建设计的方法，它使得子系统能在被高层次抽象描述，在如今力求快速上市的电子工业中有着不断增长的重要作用。"
   ]
  },
  {
   "cell_type": "markdown",
   "metadata": {},
   "source": [
    "**？？** 电脑硬件配置上同样需要一个 USB 接口以通过 JTAG 烧写 FPGA，同时最好有另一个 USB 接口通过串口和终端程序用于 PC-Zynq 之间的通信（这是一个在测试设计时普通以及有用的方法） 。\n",
    "![](3.1.png)"
   ]
  },
  {
   "cell_type": "markdown",
   "metadata": {},
   "source": [
    "## 3.2  设计流程概述\n",
    "![](3.2.png)"
   ]
  }
 ],
 "metadata": {
  "kernelspec": {
   "display_name": "Python 3",
   "language": "python",
   "name": "python3"
  },
  "language_info": {
   "codemirror_mode": {
    "name": "ipython",
    "version": 3
   },
   "file_extension": ".py",
   "mimetype": "text/x-python",
   "name": "python",
   "nbconvert_exporter": "python",
   "pygments_lexer": "ipython3",
   "version": "3.7.7"
  }
 },
 "nbformat": 4,
 "nbformat_minor": 4
}
